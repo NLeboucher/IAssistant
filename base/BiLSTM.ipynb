{
 "cells": [
  {
   "attachments": {},
   "cell_type": "markdown",
   "metadata": {},
   "source": [
    "# requirements\n",
    "##### pip install spacy\n",
    "##### python3 -m spacy download en_core_web_sm\n"
   ]
  },
  {
   "cell_type": "code",
   "execution_count": 1,
   "metadata": {},
   "outputs": [
    {
     "name": "stderr",
     "output_type": "stream",
     "text": [
      "2022-12-27 18:44:01.401234: I tensorflow/core/platform/cpu_feature_guard.cc:193] This TensorFlow binary is optimized with oneAPI Deep Neural Network Library (oneDNN) to use the following CPU instructions in performance-critical operations:  AVX2 FMA\n",
      "To enable them in other operations, rebuild TensorFlow with the appropriate compiler flags.\n",
      "2022-12-27 18:44:02.075121: W tensorflow/compiler/xla/stream_executor/platform/default/dso_loader.cc:64] Could not load dynamic library 'libnvinfer.so.7'; dlerror: libnvinfer.so.7: cannot open shared object file: No such file or directory\n",
      "2022-12-27 18:44:02.075174: W tensorflow/compiler/xla/stream_executor/platform/default/dso_loader.cc:64] Could not load dynamic library 'libnvinfer_plugin.so.7'; dlerror: libnvinfer_plugin.so.7: cannot open shared object file: No such file or directory\n",
      "2022-12-27 18:44:02.075181: W tensorflow/compiler/tf2tensorrt/utils/py_utils.cc:38] TF-TRT Warning: Cannot dlopen some TensorRT libraries. If you would like to use Nvidia GPU with TensorRT, please make sure the missing libraries mentioned above are installed properly.\n",
      "2022-12-27 18:44:02.954246: I tensorflow/compiler/xla/stream_executor/cuda/cuda_gpu_executor.cc:981] successful NUMA node read from SysFS had negative value (-1), but there must be at least one NUMA node, so returning NUMA node zero\n",
      "2022-12-27 18:44:02.954537: W tensorflow/compiler/xla/stream_executor/platform/default/dso_loader.cc:64] Could not load dynamic library 'libcufft.so.10'; dlerror: libcufft.so.10: cannot open shared object file: No such file or directory\n",
      "2022-12-27 18:44:02.954575: W tensorflow/compiler/xla/stream_executor/platform/default/dso_loader.cc:64] Could not load dynamic library 'libcurand.so.10'; dlerror: libcurand.so.10: cannot open shared object file: No such file or directory\n",
      "2022-12-27 18:44:02.954608: W tensorflow/compiler/xla/stream_executor/platform/default/dso_loader.cc:64] Could not load dynamic library 'libcusolver.so.11'; dlerror: libcusolver.so.11: cannot open shared object file: No such file or directory\n",
      "2022-12-27 18:44:02.954638: W tensorflow/compiler/xla/stream_executor/platform/default/dso_loader.cc:64] Could not load dynamic library 'libcusparse.so.11'; dlerror: libcusparse.so.11: cannot open shared object file: No such file or directory\n",
      "2022-12-27 18:44:02.954663: W tensorflow/core/common_runtime/gpu/gpu_device.cc:1934] Cannot dlopen some GPU libraries. Please make sure the missing libraries mentioned above are installed properly if you would like to use GPU. Follow the guide at https://www.tensorflow.org/install/gpu for how to download and setup the required libraries for your platform.\n",
      "Skipping registering GPU devices...\n"
     ]
    }
   ],
   "source": [
    "import numpy as np\n",
    "import random\n",
    "import spacy\n",
    "import time\n",
    "\n",
    "import torch\n",
    "import torch.nn as nn\n",
    "import torch.nn.functional as F\n",
    "import torch.optim as optim\n",
    "\n",
    "from torchtext import data\n",
    "from torchtext import datasets\n",
    "from torchtext.data.utils import get_tokenizer\n",
    "\n",
    "\n",
    "\n"
   ]
  },
  {
   "cell_type": "code",
   "execution_count": 2,
   "metadata": {},
   "outputs": [],
   "source": [
    "SEED = 1234\n",
    "\n",
    "random.seed(SEED)\n",
    "np.random.seed(SEED)\n",
    "torch.manual_seed(SEED)\n",
    "torch.backends.cudnn.deterministic = True"
   ]
  },
  {
   "cell_type": "code",
   "execution_count": 3,
   "metadata": {},
   "outputs": [],
   "source": [
    "tokenizer = get_tokenizer('spacy', language='en_core_web_sm')"
   ]
  },
  {
   "cell_type": "code",
   "execution_count": 4,
   "metadata": {},
   "outputs": [
    {
     "name": "stdout",
     "output_type": "stream",
     "text": [
      "torch.int64\n",
      "<torchtext.data.field.LabelField object at 0x7f90a988f160>\n"
     ]
    }
   ],
   "source": [
    "\n",
    "TEXT = data.Field(tokenize=tokenizer, lower = True)\n",
    "LABEL = data.LabelField()\n",
    "print(TEXT.dtype)\n",
    "print(LABEL)"
   ]
  },
  {
   "cell_type": "code",
   "execution_count": 5,
   "metadata": {},
   "outputs": [],
   "source": [
    "train_data, valid_data, test_data = datasets.SNLI.splits(TEXT, LABEL)"
   ]
  },
  {
   "cell_type": "code",
   "execution_count": null,
   "metadata": {},
   "outputs": [
    {
     "name": "stdout",
     "output_type": "stream",
     "text": [
      "Number of training examples: 549367\n",
      "Number of validation examples: 9842\n",
      "Number of testing examples: 9824\n"
     ]
    }
   ],
   "source": [
    "print(f\"Number of training examples: {len(train_data)}\")\n",
    "print(f\"Number of validation examples: {len(valid_data)}\")\n",
    "print(f\"Number of testing examples: {len(test_data)}\")"
   ]
  },
  {
   "cell_type": "code",
   "execution_count": 6,
   "metadata": {},
   "outputs": [],
   "source": [
    "MIN_FREQ = 2\n",
    "\n",
    "TEXT.build_vocab(train_data, \n",
    "                 min_freq = MIN_FREQ,\n",
    "                 vectors = \"glove.6B.300d\",\n",
    "                 unk_init = torch.Tensor.normal_)\n",
    "\n",
    "LABEL.build_vocab(train_data)"
   ]
  },
  {
   "cell_type": "code",
   "execution_count": null,
   "metadata": {},
   "outputs": [
    {
     "name": "stdout",
     "output_type": "stream",
     "text": [
      "Unique tokens in TEXT vocabulary: 23551\n"
     ]
    }
   ],
   "source": [
    "print(f\"Unique tokens in TEXT vocabulary: {len(TEXT.vocab)}\")"
   ]
  },
  {
   "cell_type": "code",
   "execution_count": null,
   "metadata": {},
   "outputs": [
    {
     "name": "stdout",
     "output_type": "stream",
     "text": [
      "[('a', 1438991), ('.', 962527), ('the', 534692), ('in', 407296), ('is', 373543), ('man', 266236), ('on', 235904), ('and', 206363), ('are', 199114), ('of', 192428), ('with', 169236), ('woman', 137630), ('two', 122259), ('people', 121154), (',', 114331), ('to', 113972), ('at', 98656), ('wearing', 81024), ('an', 80212), ('his', 72467)]\n"
     ]
    }
   ],
   "source": [
    "print(TEXT.vocab.freqs.most_common(20))"
   ]
  },
  {
   "cell_type": "code",
   "execution_count": null,
   "metadata": {},
   "outputs": [
    {
     "name": "stdout",
     "output_type": "stream",
     "text": [
      "['<unk>', '<pad>', 'a', '.', 'the', 'in', 'is', 'man', 'on', 'and', 'are', 'of', 'with', 'woman', 'two', 'people', ',', 'to', 'at', 'wearing']\n"
     ]
    }
   ],
   "source": [
    "print(TEXT.vocab.itos[:20])"
   ]
  },
  {
   "cell_type": "code",
   "execution_count": null,
   "metadata": {},
   "outputs": [
    {
     "name": "stdout",
     "output_type": "stream",
     "text": [
      "['entailment', 'contradiction', 'neutral']\n"
     ]
    }
   ],
   "source": [
    "print(LABEL.vocab.itos)"
   ]
  },
  {
   "cell_type": "code",
   "execution_count": null,
   "metadata": {},
   "outputs": [
    {
     "name": "stdout",
     "output_type": "stream",
     "text": [
      "[('entailment', 183416), ('contradiction', 183187), ('neutral', 182764)]\n"
     ]
    }
   ],
   "source": [
    "print(LABEL.vocab.freqs.most_common())"
   ]
  },
  {
   "cell_type": "code",
   "execution_count": 7,
   "metadata": {},
   "outputs": [
    {
     "name": "stdout",
     "output_type": "stream",
     "text": [
      "cuda\n"
     ]
    }
   ],
   "source": [
    "BATCH_SIZE = 512\n",
    "\n",
    "device = torch.device('cuda' if torch.cuda.is_available() else 'cpu')\n",
    "\n",
    "train_iterator, valid_iterator, test_iterator = data.BucketIterator.splits(\n",
    "    (train_data, valid_data, test_data), \n",
    "    batch_size = BATCH_SIZE,\n",
    "    device = device)\n",
    "print(device)"
   ]
  },
  {
   "cell_type": "code",
   "execution_count": 8,
   "metadata": {},
   "outputs": [],
   "source": [
    "class NLIBiLSTM(nn.Module):\n",
    "    def __init__(self, \n",
    "                 input_dim, \n",
    "                 embedding_dim,\n",
    "                 hidden_dim,\n",
    "                 n_lstm_layers,\n",
    "                 n_fc_layers,\n",
    "                 output_dim, \n",
    "                 dropout, \n",
    "                 pad_idx):\n",
    "        \n",
    "        super().__init__()\n",
    "                                \n",
    "        self.embedding = nn.Embedding(input_dim, embedding_dim, padding_idx = pad_idx)\n",
    "        \n",
    "        self.translation = nn.Linear(embedding_dim, hidden_dim)\n",
    "        \n",
    "        self.lstm = nn.LSTM(hidden_dim, \n",
    "                            hidden_dim, \n",
    "                            num_layers = n_lstm_layers, \n",
    "                            bidirectional = True, \n",
    "                            dropout=dropout if n_lstm_layers > 1 else 0)\n",
    "        \n",
    "        fc_dim = hidden_dim * 2\n",
    "        \n",
    "        fcs = [nn.Linear(fc_dim * 2, fc_dim * 2) for _ in range(n_fc_layers)]\n",
    "        \n",
    "        self.fcs = nn.ModuleList(fcs)\n",
    "        \n",
    "        self.fc_out = nn.Linear(fc_dim * 2, output_dim)\n",
    "        \n",
    "        self.dropout = nn.Dropout(dropout)\n",
    "        \n",
    "    def forward(self, prem, hypo):\n",
    "\n",
    "        prem_seq_len, batch_size = prem.shape\n",
    "        hypo_seq_len, _ = hypo.shape\n",
    "        \n",
    "        #prem = [prem sent len, batch size]\n",
    "        #hypo = [hypo sent len, batch size]\n",
    "        \n",
    "        embedded_prem = self.embedding(prem)\n",
    "        embedded_hypo = self.embedding(hypo)\n",
    "        \n",
    "        #embedded_prem = [prem sent len, batch size, embedding dim]\n",
    "        #embedded_hypo = [hypo sent len, batch size, embedding dim]\n",
    "        \n",
    "        translated_prem = F.relu(self.translation(embedded_prem))\n",
    "        translated_hypo = F.relu(self.translation(embedded_hypo))\n",
    "        \n",
    "        #translated_prem = [prem sent len, batch size, hidden dim]\n",
    "        #translated_hypo = [hypo sent len, batch size, hidden dim]\n",
    "        \n",
    "        outputs_prem, (hidden_prem, cell_prem) = self.lstm(translated_prem)\n",
    "        outputs_hypo, (hidden_hypo, cell_hypo) = self.lstm(translated_hypo)\n",
    "\n",
    "        #outputs_x = [sent len, batch size, n directions * hid dim]\n",
    "        #hidden_x = [n layers * n directions, batch size, hid dim]\n",
    "        #cell_x = [n layers * n directions, batch size, hid dim]\n",
    "        \n",
    "        hidden_prem = torch.cat((hidden_prem[-1], hidden_prem[-2]), dim=-1)\n",
    "        hidden_hypo = torch.cat((hidden_hypo[-1], hidden_hypo[-2]), dim=-1)\n",
    "        \n",
    "        #hidden_x = [batch size, fc dim]\n",
    "\n",
    "        hidden = torch.cat((hidden_prem, hidden_hypo), dim=1)\n",
    "\n",
    "        #hidden = [batch size, fc dim * 2]\n",
    "            \n",
    "        for fc in self.fcs:\n",
    "            hidden = fc(hidden)\n",
    "            hidden = F.relu(hidden)\n",
    "            hidden = self.dropout(hidden)\n",
    "        \n",
    "        prediction = self.fc_out(hidden)\n",
    "        \n",
    "        #prediction = [batch size, output dim]\n",
    "        \n",
    "        return prediction"
   ]
  },
  {
   "cell_type": "code",
   "execution_count": 9,
   "metadata": {},
   "outputs": [
    {
     "ename": "RuntimeError",
     "evalue": "CUDA error: CUDA-capable device(s) is/are busy or unavailable\nCUDA kernel errors might be asynchronously reported at some other API call,so the stacktrace below might be incorrect.\nFor debugging consider passing CUDA_LAUNCH_BLOCKING=1.",
     "output_type": "error",
     "traceback": [
      "\u001b[0;31m---------------------------------------------------------------------------\u001b[0m",
      "\u001b[0;31mRuntimeError\u001b[0m                              Traceback (most recent call last)",
      "Cell \u001b[0;32mIn [9], line 18\u001b[0m\n\u001b[1;32m      8\u001b[0m DROPOUT \u001b[39m=\u001b[39m \u001b[39m0.25\u001b[39m\n\u001b[1;32m      9\u001b[0m PAD_IDX \u001b[39m=\u001b[39m TEXT\u001b[39m.\u001b[39mvocab\u001b[39m.\u001b[39mstoi[TEXT\u001b[39m.\u001b[39mpad_token]\n\u001b[1;32m     11\u001b[0m model \u001b[39m=\u001b[39m NLIBiLSTM(INPUT_DIM,\n\u001b[1;32m     12\u001b[0m                   EMBEDDING_DIM,\n\u001b[1;32m     13\u001b[0m                   HIDDEN_DIM,\n\u001b[1;32m     14\u001b[0m                   N_LSTM_LAYERS,\n\u001b[1;32m     15\u001b[0m                   N_FC_LAYERS,\n\u001b[1;32m     16\u001b[0m                   OUTPUT_DIM,\n\u001b[1;32m     17\u001b[0m                   DROPOUT,\n\u001b[0;32m---> 18\u001b[0m                   PAD_IDX)\u001b[39m.\u001b[39;49mto(device)\n",
      "File \u001b[0;32m~/.local/lib/python3.10/site-packages/torch/nn/modules/module.py:987\u001b[0m, in \u001b[0;36mModule.to\u001b[0;34m(self, *args, **kwargs)\u001b[0m\n\u001b[1;32m    983\u001b[0m         \u001b[39mreturn\u001b[39;00m t\u001b[39m.\u001b[39mto(device, dtype \u001b[39mif\u001b[39;00m t\u001b[39m.\u001b[39mis_floating_point() \u001b[39mor\u001b[39;00m t\u001b[39m.\u001b[39mis_complex() \u001b[39melse\u001b[39;00m \u001b[39mNone\u001b[39;00m,\n\u001b[1;32m    984\u001b[0m                     non_blocking, memory_format\u001b[39m=\u001b[39mconvert_to_format)\n\u001b[1;32m    985\u001b[0m     \u001b[39mreturn\u001b[39;00m t\u001b[39m.\u001b[39mto(device, dtype \u001b[39mif\u001b[39;00m t\u001b[39m.\u001b[39mis_floating_point() \u001b[39mor\u001b[39;00m t\u001b[39m.\u001b[39mis_complex() \u001b[39melse\u001b[39;00m \u001b[39mNone\u001b[39;00m, non_blocking)\n\u001b[0;32m--> 987\u001b[0m \u001b[39mreturn\u001b[39;00m \u001b[39mself\u001b[39;49m\u001b[39m.\u001b[39;49m_apply(convert)\n",
      "File \u001b[0;32m~/.local/lib/python3.10/site-packages/torch/nn/modules/module.py:639\u001b[0m, in \u001b[0;36mModule._apply\u001b[0;34m(self, fn)\u001b[0m\n\u001b[1;32m    637\u001b[0m \u001b[39mdef\u001b[39;00m \u001b[39m_apply\u001b[39m(\u001b[39mself\u001b[39m, fn):\n\u001b[1;32m    638\u001b[0m     \u001b[39mfor\u001b[39;00m module \u001b[39min\u001b[39;00m \u001b[39mself\u001b[39m\u001b[39m.\u001b[39mchildren():\n\u001b[0;32m--> 639\u001b[0m         module\u001b[39m.\u001b[39;49m_apply(fn)\n\u001b[1;32m    641\u001b[0m     \u001b[39mdef\u001b[39;00m \u001b[39mcompute_should_use_set_data\u001b[39m(tensor, tensor_applied):\n\u001b[1;32m    642\u001b[0m         \u001b[39mif\u001b[39;00m torch\u001b[39m.\u001b[39m_has_compatible_shallow_copy_type(tensor, tensor_applied):\n\u001b[1;32m    643\u001b[0m             \u001b[39m# If the new tensor has compatible tensor type as the existing tensor,\u001b[39;00m\n\u001b[1;32m    644\u001b[0m             \u001b[39m# the current behavior is to change the tensor in-place using `.data =`,\u001b[39;00m\n\u001b[0;32m   (...)\u001b[0m\n\u001b[1;32m    649\u001b[0m             \u001b[39m# global flag to let the user control whether they want the future\u001b[39;00m\n\u001b[1;32m    650\u001b[0m             \u001b[39m# behavior of overwriting the existing tensor or not.\u001b[39;00m\n",
      "File \u001b[0;32m~/.local/lib/python3.10/site-packages/torch/nn/modules/module.py:662\u001b[0m, in \u001b[0;36mModule._apply\u001b[0;34m(self, fn)\u001b[0m\n\u001b[1;32m    658\u001b[0m \u001b[39m# Tensors stored in modules are graph leaves, and we don't want to\u001b[39;00m\n\u001b[1;32m    659\u001b[0m \u001b[39m# track autograd history of `param_applied`, so we have to use\u001b[39;00m\n\u001b[1;32m    660\u001b[0m \u001b[39m# `with torch.no_grad():`\u001b[39;00m\n\u001b[1;32m    661\u001b[0m \u001b[39mwith\u001b[39;00m torch\u001b[39m.\u001b[39mno_grad():\n\u001b[0;32m--> 662\u001b[0m     param_applied \u001b[39m=\u001b[39m fn(param)\n\u001b[1;32m    663\u001b[0m should_use_set_data \u001b[39m=\u001b[39m compute_should_use_set_data(param, param_applied)\n\u001b[1;32m    664\u001b[0m \u001b[39mif\u001b[39;00m should_use_set_data:\n",
      "File \u001b[0;32m~/.local/lib/python3.10/site-packages/torch/nn/modules/module.py:985\u001b[0m, in \u001b[0;36mModule.to.<locals>.convert\u001b[0;34m(t)\u001b[0m\n\u001b[1;32m    982\u001b[0m \u001b[39mif\u001b[39;00m convert_to_format \u001b[39mis\u001b[39;00m \u001b[39mnot\u001b[39;00m \u001b[39mNone\u001b[39;00m \u001b[39mand\u001b[39;00m t\u001b[39m.\u001b[39mdim() \u001b[39min\u001b[39;00m (\u001b[39m4\u001b[39m, \u001b[39m5\u001b[39m):\n\u001b[1;32m    983\u001b[0m     \u001b[39mreturn\u001b[39;00m t\u001b[39m.\u001b[39mto(device, dtype \u001b[39mif\u001b[39;00m t\u001b[39m.\u001b[39mis_floating_point() \u001b[39mor\u001b[39;00m t\u001b[39m.\u001b[39mis_complex() \u001b[39melse\u001b[39;00m \u001b[39mNone\u001b[39;00m,\n\u001b[1;32m    984\u001b[0m                 non_blocking, memory_format\u001b[39m=\u001b[39mconvert_to_format)\n\u001b[0;32m--> 985\u001b[0m \u001b[39mreturn\u001b[39;00m t\u001b[39m.\u001b[39;49mto(device, dtype \u001b[39mif\u001b[39;49;00m t\u001b[39m.\u001b[39;49mis_floating_point() \u001b[39mor\u001b[39;49;00m t\u001b[39m.\u001b[39;49mis_complex() \u001b[39melse\u001b[39;49;00m \u001b[39mNone\u001b[39;49;00m, non_blocking)\n",
      "\u001b[0;31mRuntimeError\u001b[0m: CUDA error: CUDA-capable device(s) is/are busy or unavailable\nCUDA kernel errors might be asynchronously reported at some other API call,so the stacktrace below might be incorrect.\nFor debugging consider passing CUDA_LAUNCH_BLOCKING=1."
     ]
    }
   ],
   "source": [
    "CUDA_LAUNCH_BLOCKING=1\n",
    "INPUT_DIM = len(TEXT.vocab)\n",
    "EMBEDDING_DIM = 300\n",
    "HIDDEN_DIM = 300\n",
    "N_LSTM_LAYERS = 2\n",
    "N_FC_LAYERS = 3\n",
    "OUTPUT_DIM = len(LABEL.vocab)\n",
    "DROPOUT = 0.25\n",
    "PAD_IDX = TEXT.vocab.stoi[TEXT.pad_token]\n",
    "\n",
    "model = NLIBiLSTM(INPUT_DIM,\n",
    "                  EMBEDDING_DIM,\n",
    "                  HIDDEN_DIM,\n",
    "                  N_LSTM_LAYERS,\n",
    "                  N_FC_LAYERS,\n",
    "                  OUTPUT_DIM,\n",
    "                  DROPOUT,\n",
    "                  PAD_IDX).to(device)"
   ]
  },
  {
   "cell_type": "code",
   "execution_count": null,
   "metadata": {},
   "outputs": [
    {
     "name": "stdout",
     "output_type": "stream",
     "text": [
      "The model has 15,092,403 trainable parameters\n"
     ]
    }
   ],
   "source": [
    "def count_parameters(model):\n",
    "    return sum(p.numel() for p in model.parameters() if p.requires_grad)\n",
    "\n",
    "print(f'The model has {count_parameters(model):,} trainable parameters')\n",
    "print(model.sumary())"
   ]
  },
  {
   "cell_type": "code",
   "execution_count": null,
   "metadata": {},
   "outputs": [
    {
     "name": "stdout",
     "output_type": "stream",
     "text": [
      "torch.Size([23551, 300])\n"
     ]
    }
   ],
   "source": [
    "pretrained_embeddings = TEXT.vocab.vectors\n",
    "\n",
    "print(pretrained_embeddings.shape)"
   ]
  },
  {
   "cell_type": "code",
   "execution_count": null,
   "metadata": {},
   "outputs": [
    {
     "data": {
      "text/plain": [
       "tensor([[-0.1117, -0.4966,  0.1631,  ..., -1.4447,  0.8402, -0.8668],\n",
       "        [ 0.1032, -1.6268,  0.5729,  ...,  0.3180, -0.1626, -0.0417],\n",
       "        [-0.2971,  0.0940, -0.0967,  ...,  0.0597, -0.2285,  0.2960],\n",
       "        ...,\n",
       "        [-0.2149,  0.0846, -0.2949,  ...,  0.2379,  0.4804, -0.3348],\n",
       "        [-1.0809, -1.1397, -0.9308,  ..., -1.6457,  0.5161, -1.6925],\n",
       "        [ 0.3580, -0.0304,  0.3355,  ...,  0.0703, -0.5158,  0.1819]],\n",
       "       device='cuda:0')"
      ]
     },
     "execution_count": 20,
     "metadata": {},
     "output_type": "execute_result"
    }
   ],
   "source": [
    "model.embedding.weight.data.copy_(pretrained_embeddings)"
   ]
  },
  {
   "cell_type": "code",
   "execution_count": null,
   "metadata": {},
   "outputs": [
    {
     "name": "stdout",
     "output_type": "stream",
     "text": [
      "tensor([[-0.1117, -0.4966,  0.1631,  ..., -1.4447,  0.8402, -0.8668],\n",
      "        [ 0.0000,  0.0000,  0.0000,  ...,  0.0000,  0.0000,  0.0000],\n",
      "        [-0.2971,  0.0940, -0.0967,  ...,  0.0597, -0.2285,  0.2960],\n",
      "        ...,\n",
      "        [-0.2149,  0.0846, -0.2949,  ...,  0.2379,  0.4804, -0.3348],\n",
      "        [-1.0809, -1.1397, -0.9308,  ..., -1.6457,  0.5161, -1.6925],\n",
      "        [ 0.3580, -0.0304,  0.3355,  ...,  0.0703, -0.5158,  0.1819]],\n",
      "       device='cuda:0')\n"
     ]
    }
   ],
   "source": [
    "model.embedding.weight.data[PAD_IDX] = torch.zeros(EMBEDDING_DIM)\n",
    "\n",
    "print(model.embedding.weight.data)"
   ]
  },
  {
   "cell_type": "code",
   "execution_count": null,
   "metadata": {},
   "outputs": [],
   "source": [
    "model.embedding.weight.requires_grad = False"
   ]
  },
  {
   "cell_type": "code",
   "execution_count": null,
   "metadata": {},
   "outputs": [
    {
     "name": "stdout",
     "output_type": "stream",
     "text": [
      "The model has 8,027,103 trainable parameters\n"
     ]
    }
   ],
   "source": [
    "def count_parameters(model):\n",
    "    return sum(p.numel() for p in model.parameters() if p.requires_grad)\n",
    "\n",
    "print(f'The model has {count_parameters(model):,} trainable parameters')"
   ]
  },
  {
   "cell_type": "code",
   "execution_count": null,
   "metadata": {},
   "outputs": [],
   "source": [
    "optimizer = optim.AdamW(model.parameters(),)"
   ]
  },
  {
   "cell_type": "code",
   "execution_count": null,
   "metadata": {},
   "outputs": [],
   "source": [
    "criterion = nn.CrossEntropyLoss().to(device)"
   ]
  },
  {
   "cell_type": "code",
   "execution_count": null,
   "metadata": {},
   "outputs": [],
   "source": [
    "def categorical_accuracy(preds, y):\n",
    "    \"\"\"\n",
    "    Returns accuracy per batch\n",
    "    \"\"\"\n",
    "    max_preds = preds.argmax(dim = 1, keepdim = True) # get the index of the max probability\n",
    "    correct = max_preds.squeeze(1).eq(y)\n",
    "    return correct.sum() / torch.cuda.FloatTensor([y.shape[0]])"
   ]
  },
  {
   "cell_type": "code",
   "execution_count": null,
   "metadata": {},
   "outputs": [],
   "source": [
    "def train(model, iterator, optimizer, criterion):\n",
    "    \n",
    "    epoch_loss = 0\n",
    "    epoch_acc = 0\n",
    "    \n",
    "    model.train()\n",
    "    \n",
    "    for batch in iterator:\n",
    "        \n",
    "        prem = batch.premise\n",
    "        hypo = batch.hypothesis\n",
    "        labels = batch.label\n",
    "        \n",
    "        optimizer.zero_grad()\n",
    "        \n",
    "        #prem = [prem sent len, batch size]\n",
    "        #hypo = [hypo sent len, batch size]\n",
    "        \n",
    "        predictions = model(prem, hypo)\n",
    "        \n",
    "        #predictions = [batch size, output dim]\n",
    "        #labels = [batch size]\n",
    "        \n",
    "        loss = criterion(predictions, labels)\n",
    "                \n",
    "        acc = categorical_accuracy(predictions, labels)\n",
    "        \n",
    "        loss.backward()\n",
    "        \n",
    "        optimizer.step()\n",
    "        \n",
    "        epoch_loss += loss.item()\n",
    "        epoch_acc += acc.item()\n",
    "        \n",
    "    return epoch_loss / len(iterator), epoch_acc / len(iterator)"
   ]
  },
  {
   "cell_type": "code",
   "execution_count": null,
   "metadata": {},
   "outputs": [],
   "source": [
    "def evaluate(model, iterator, criterion):\n",
    "    \n",
    "    epoch_loss = 0\n",
    "    epoch_acc = 0\n",
    "    \n",
    "    model.eval()\n",
    "    \n",
    "    with torch.no_grad():\n",
    "    \n",
    "        for batch in iterator:\n",
    "\n",
    "            prem = batch.premise\n",
    "            hypo = batch.hypothesis\n",
    "            labels = batch.label\n",
    "                        \n",
    "            predictions = model(prem, hypo)\n",
    "            \n",
    "            loss = criterion(predictions, labels)\n",
    "                \n",
    "            acc = categorical_accuracy(predictions, labels)\n",
    "            \n",
    "            epoch_loss += loss.item()\n",
    "            epoch_acc += acc.item()\n",
    "        \n",
    "    return epoch_loss / len(iterator), epoch_acc / len(iterator)"
   ]
  },
  {
   "cell_type": "code",
   "execution_count": null,
   "metadata": {},
   "outputs": [],
   "source": [
    "def epoch_time(start_time, end_time):\n",
    "    elapsed_time = end_time - start_time\n",
    "    elapsed_mins = int(elapsed_time / 60)\n",
    "    elapsed_secs = int(elapsed_time - (elapsed_mins * 60))\n",
    "    return elapsed_mins, elapsed_secs"
   ]
  },
  {
   "cell_type": "code",
   "execution_count": null,
   "metadata": {},
   "outputs": [
    {
     "name": "stdout",
     "output_type": "stream",
     "text": [
      "Epoch: 01 | Epoch Time: 9m 34s\n",
      "\tTrain Loss: 0.774 | Train Acc: 65.64%\n",
      "\t Val. Loss: 0.674 |  Val. Acc: 71.80%\n",
      "Epoch: 02 | Epoch Time: 5m 12s\n",
      "\tTrain Loss: 0.634 | Train Acc: 73.70%\n",
      "\t Val. Loss: 0.600 |  Val. Acc: 75.34%\n",
      "Epoch: 03 | Epoch Time: 5m 11s\n",
      "\tTrain Loss: 0.575 | Train Acc: 76.66%\n",
      "\t Val. Loss: 0.550 |  Val. Acc: 77.50%\n",
      "Epoch: 04 | Epoch Time: 5m 12s\n",
      "\tTrain Loss: 0.532 | Train Acc: 78.67%\n",
      "\t Val. Loss: 0.531 |  Val. Acc: 78.46%\n",
      "Epoch: 05 | Epoch Time: 5m 13s\n",
      "\tTrain Loss: 0.499 | Train Acc: 80.26%\n",
      "\t Val. Loss: 0.517 |  Val. Acc: 79.25%\n",
      "Epoch: 06 | Epoch Time: 5m 12s\n",
      "\tTrain Loss: 0.471 | Train Acc: 81.53%\n",
      "\t Val. Loss: 0.505 |  Val. Acc: 79.94%\n",
      "Epoch: 07 | Epoch Time: 5m 15s\n",
      "\tTrain Loss: 0.445 | Train Acc: 82.68%\n",
      "\t Val. Loss: 0.492 |  Val. Acc: 80.33%\n",
      "Epoch: 08 | Epoch Time: 5m 14s\n",
      "\tTrain Loss: 0.419 | Train Acc: 83.75%\n",
      "\t Val. Loss: 0.493 |  Val. Acc: 80.47%\n",
      "Epoch: 09 | Epoch Time: 5m 13s\n",
      "\tTrain Loss: 0.394 | Train Acc: 84.87%\n",
      "\t Val. Loss: 0.499 |  Val. Acc: 80.90%\n",
      "Epoch: 10 | Epoch Time: 5m 13s\n",
      "\tTrain Loss: 0.367 | Train Acc: 86.00%\n",
      "\t Val. Loss: 0.511 |  Val. Acc: 80.88%\n"
     ]
    }
   ],
   "source": [
    "N_EPOCHS = 10\n",
    "\n",
    "best_valid_loss = float('inf')\n",
    "\n",
    "for epoch in range(N_EPOCHS):\n",
    "\n",
    "    start_time = time.time()\n",
    "    \n",
    "    train_loss, train_acc = train(model, train_iterator, optimizer, criterion)\n",
    "    valid_loss, valid_acc = evaluate(model, valid_iterator, criterion)\n",
    "    \n",
    "    end_time = time.time()\n",
    "\n",
    "    epoch_mins, epoch_secs = epoch_time(start_time, end_time)\n",
    "    \n",
    "    if valid_loss < best_valid_loss:\n",
    "        best_valid_loss = valid_loss\n",
    "        torch.save(model.state_dict(), 'tut1-model.pt')\n",
    "    \n",
    "    print(f'Epoch: {epoch+1:02} | Epoch Time: {epoch_mins}m {epoch_secs}s')\n",
    "    print(f'\\tTrain Loss: {train_loss:.3f} | Train Acc: {train_acc*100:.2f}%')\n",
    "    print(f'\\t Val. Loss: {valid_loss:.3f} |  Val. Acc: {valid_acc*100:.2f}%')"
   ]
  },
  {
   "cell_type": "code",
   "execution_count": null,
   "metadata": {},
   "outputs": [
    {
     "name": "stdout",
     "output_type": "stream",
     "text": [
      "Test Loss: 0.497 |  Test Acc: 80.50%\n"
     ]
    }
   ],
   "source": [
    "model.load_state_dict(torch.load('tut1-model.pt'))\n",
    "\n",
    "test_loss, test_acc = evaluate(model, test_iterator, criterion)\n",
    "\n",
    "print(f'Test Loss: {test_loss:.3f} |  Test Acc: {test_acc*100:.2f}%')"
   ]
  },
  {
   "cell_type": "code",
   "execution_count": null,
   "metadata": {},
   "outputs": [],
   "source": [
    "def predict_inference(premise, hypothesis, text_field, label_field, model, device):\n",
    "    \n",
    "    model.eval()\n",
    "    \n",
    "    if isinstance(premise, str):\n",
    "        premise = text_field.tokenize(premise)\n",
    "    \n",
    "    if isinstance(hypothesis, str):\n",
    "        hypothesis = text_field.tokenize(hypothesis)\n",
    "    \n",
    "    if text_field.lower:\n",
    "        premise = [t.lower() for t in premise]\n",
    "        hypothesis = [t.lower() for t in hypothesis]\n",
    "        \n",
    "    premise = [text_field.vocab.stoi[t] for t in premise]\n",
    "    hypothesis = [text_field.vocab.stoi[t] for t in hypothesis]\n",
    "    \n",
    "    premise = torch.LongTensor(premise).unsqueeze(1).to(device)\n",
    "    hypothesis = torch.LongTensor(hypothesis).unsqueeze(1).to(device)\n",
    "    \n",
    "    prediction = model(premise, hypothesis)\n",
    "    \n",
    "    prediction = prediction.argmax(dim=-1).item()\n",
    "    \n",
    "    return label_field.vocab.itos[prediction]"
   ]
  },
  {
   "cell_type": "code",
   "execution_count": null,
   "metadata": {},
   "outputs": [
    {
     "ename": "AttributeError",
     "evalue": "'Field' object has no attribute 'vocab'",
     "output_type": "error",
     "traceback": [
      "\u001b[0;31m---------------------------------------------------------------------------\u001b[0m",
      "\u001b[0;31mAttributeError\u001b[0m                            Traceback (most recent call last)",
      "Cell \u001b[0;32mIn [42], line 4\u001b[0m\n\u001b[1;32m      2\u001b[0m hypothesis \u001b[39m=\u001b[39m \u001b[39m'\u001b[39m\u001b[39ma woman sitting on a green bench.\u001b[39m\u001b[39m'\u001b[39m\n\u001b[1;32m      3\u001b[0m \u001b[39mfor\u001b[39;00m i \u001b[39min\u001b[39;00m \u001b[39mrange\u001b[39m(\u001b[39m750\u001b[39m):\n\u001b[0;32m----> 4\u001b[0m     predict_inference(premise, hypothesis, TEXT, LABEL, model, device)\n\u001b[1;32m      6\u001b[0m \u001b[39mprint\u001b[39m(\u001b[39m\"\u001b[39m\u001b[39mdone\u001b[39m\u001b[39m\"\u001b[39m)\n",
      "Cell \u001b[0;32mIn [41], line 15\u001b[0m, in \u001b[0;36mpredict_inference\u001b[0;34m(premise, hypothesis, text_field, label_field, model, device)\u001b[0m\n\u001b[1;32m     12\u001b[0m     premise \u001b[39m=\u001b[39m [t\u001b[39m.\u001b[39mlower() \u001b[39mfor\u001b[39;00m t \u001b[39min\u001b[39;00m premise]\n\u001b[1;32m     13\u001b[0m     hypothesis \u001b[39m=\u001b[39m [t\u001b[39m.\u001b[39mlower() \u001b[39mfor\u001b[39;00m t \u001b[39min\u001b[39;00m hypothesis]\n\u001b[0;32m---> 15\u001b[0m premise \u001b[39m=\u001b[39m [text_field\u001b[39m.\u001b[39mvocab\u001b[39m.\u001b[39mstoi[t] \u001b[39mfor\u001b[39;00m t \u001b[39min\u001b[39;00m premise]\n\u001b[1;32m     16\u001b[0m hypothesis \u001b[39m=\u001b[39m [text_field\u001b[39m.\u001b[39mvocab\u001b[39m.\u001b[39mstoi[t] \u001b[39mfor\u001b[39;00m t \u001b[39min\u001b[39;00m hypothesis]\n\u001b[1;32m     18\u001b[0m premise \u001b[39m=\u001b[39m torch\u001b[39m.\u001b[39mLongTensor(premise)\u001b[39m.\u001b[39munsqueeze(\u001b[39m1\u001b[39m)\u001b[39m.\u001b[39mto(device)\n",
      "Cell \u001b[0;32mIn [41], line 15\u001b[0m, in \u001b[0;36m<listcomp>\u001b[0;34m(.0)\u001b[0m\n\u001b[1;32m     12\u001b[0m     premise \u001b[39m=\u001b[39m [t\u001b[39m.\u001b[39mlower() \u001b[39mfor\u001b[39;00m t \u001b[39min\u001b[39;00m premise]\n\u001b[1;32m     13\u001b[0m     hypothesis \u001b[39m=\u001b[39m [t\u001b[39m.\u001b[39mlower() \u001b[39mfor\u001b[39;00m t \u001b[39min\u001b[39;00m hypothesis]\n\u001b[0;32m---> 15\u001b[0m premise \u001b[39m=\u001b[39m [text_field\u001b[39m.\u001b[39;49mvocab\u001b[39m.\u001b[39mstoi[t] \u001b[39mfor\u001b[39;00m t \u001b[39min\u001b[39;00m premise]\n\u001b[1;32m     16\u001b[0m hypothesis \u001b[39m=\u001b[39m [text_field\u001b[39m.\u001b[39mvocab\u001b[39m.\u001b[39mstoi[t] \u001b[39mfor\u001b[39;00m t \u001b[39min\u001b[39;00m hypothesis]\n\u001b[1;32m     18\u001b[0m premise \u001b[39m=\u001b[39m torch\u001b[39m.\u001b[39mLongTensor(premise)\u001b[39m.\u001b[39munsqueeze(\u001b[39m1\u001b[39m)\u001b[39m.\u001b[39mto(device)\n",
      "\u001b[0;31mAttributeError\u001b[0m: 'Field' object has no attribute 'vocab'"
     ]
    }
   ],
   "source": [
    "premise = 'a man sitting on a green bench.'\n",
    "hypothesis = 'a woman sitting on a green bench.'\n",
    "for i in range(750):\n",
    "    predict_inference(premise, hypothesis, TEXT, LABEL, model, device)\n",
    "\n",
    "print(\"done\")"
   ]
  },
  {
   "cell_type": "code",
   "execution_count": null,
   "metadata": {},
   "outputs": [
    {
     "name": "stdout",
     "output_type": "stream",
     "text": [
      "2\n"
     ]
    },
    {
     "data": {
      "text/plain": [
       "'neutral'"
      ]
     },
     "execution_count": 38,
     "metadata": {},
     "output_type": "execute_result"
    }
   ],
   "source": [
    "premise = 'Move the sun to the right and above.'\n",
    "hypothesis = 'A user wants to increase the sound.'\n",
    "\n",
    "predict_inference(premise, hypothesis, TEXT, LABEL, model, device)"
   ]
  },
  {
   "cell_type": "code",
   "execution_count": null,
   "metadata": {},
   "outputs": [
    {
     "ename": "AttributeError",
     "evalue": "'Field' object has no attribute 'vocab'",
     "output_type": "error",
     "traceback": [
      "\u001b[0;31m---------------------------------------------------------------------------\u001b[0m",
      "\u001b[0;31mAttributeError\u001b[0m                            Traceback (most recent call last)",
      "Cell \u001b[0;32mIn [40], line 4\u001b[0m\n\u001b[1;32m      1\u001b[0m premise \u001b[39m=\u001b[39m \u001b[39m'\u001b[39m\u001b[39mMove the sun to the right\u001b[39m\u001b[39m'\u001b[39m\n\u001b[1;32m      2\u001b[0m hypothesis \u001b[39m=\u001b[39m \u001b[39m'\u001b[39m\u001b[39mA user wants the sun to move to the left.\u001b[39m\u001b[39m'\u001b[39m\n\u001b[0;32m----> 4\u001b[0m predict_inference(premise, hypothesis, TEXT, LABEL, model, device)\n",
      "Cell \u001b[0;32mIn [35], line 15\u001b[0m, in \u001b[0;36mpredict_inference\u001b[0;34m(premise, hypothesis, text_field, label_field, model, device)\u001b[0m\n\u001b[1;32m     12\u001b[0m     premise \u001b[39m=\u001b[39m [t\u001b[39m.\u001b[39mlower() \u001b[39mfor\u001b[39;00m t \u001b[39min\u001b[39;00m premise]\n\u001b[1;32m     13\u001b[0m     hypothesis \u001b[39m=\u001b[39m [t\u001b[39m.\u001b[39mlower() \u001b[39mfor\u001b[39;00m t \u001b[39min\u001b[39;00m hypothesis]\n\u001b[0;32m---> 15\u001b[0m premise \u001b[39m=\u001b[39m [text_field\u001b[39m.\u001b[39mvocab\u001b[39m.\u001b[39mstoi[t] \u001b[39mfor\u001b[39;00m t \u001b[39min\u001b[39;00m premise]\n\u001b[1;32m     16\u001b[0m hypothesis \u001b[39m=\u001b[39m [text_field\u001b[39m.\u001b[39mvocab\u001b[39m.\u001b[39mstoi[t] \u001b[39mfor\u001b[39;00m t \u001b[39min\u001b[39;00m hypothesis]\n\u001b[1;32m     18\u001b[0m premise \u001b[39m=\u001b[39m torch\u001b[39m.\u001b[39mLongTensor(premise)\u001b[39m.\u001b[39munsqueeze(\u001b[39m1\u001b[39m)\u001b[39m.\u001b[39mto(device)\n",
      "Cell \u001b[0;32mIn [35], line 15\u001b[0m, in \u001b[0;36m<listcomp>\u001b[0;34m(.0)\u001b[0m\n\u001b[1;32m     12\u001b[0m     premise \u001b[39m=\u001b[39m [t\u001b[39m.\u001b[39mlower() \u001b[39mfor\u001b[39;00m t \u001b[39min\u001b[39;00m premise]\n\u001b[1;32m     13\u001b[0m     hypothesis \u001b[39m=\u001b[39m [t\u001b[39m.\u001b[39mlower() \u001b[39mfor\u001b[39;00m t \u001b[39min\u001b[39;00m hypothesis]\n\u001b[0;32m---> 15\u001b[0m premise \u001b[39m=\u001b[39m [text_field\u001b[39m.\u001b[39;49mvocab\u001b[39m.\u001b[39mstoi[t] \u001b[39mfor\u001b[39;00m t \u001b[39min\u001b[39;00m premise]\n\u001b[1;32m     16\u001b[0m hypothesis \u001b[39m=\u001b[39m [text_field\u001b[39m.\u001b[39mvocab\u001b[39m.\u001b[39mstoi[t] \u001b[39mfor\u001b[39;00m t \u001b[39min\u001b[39;00m hypothesis]\n\u001b[1;32m     18\u001b[0m premise \u001b[39m=\u001b[39m torch\u001b[39m.\u001b[39mLongTensor(premise)\u001b[39m.\u001b[39munsqueeze(\u001b[39m1\u001b[39m)\u001b[39m.\u001b[39mto(device)\n",
      "\u001b[0;31mAttributeError\u001b[0m: 'Field' object has no attribute 'vocab'"
     ]
    }
   ],
   "source": [
    "premise = 'Move the sun to the right'\n",
    "hypothesis = 'A user wants the sun to move to the left.'\n",
    "\n",
    "predict_inference(premise, hypothesis, TEXT, LABEL, model, device)"
   ]
  },
  {
   "cell_type": "code",
   "execution_count": null,
   "metadata": {},
   "outputs": [
    {
     "data": {
      "text/plain": [
       "'neutral'"
      ]
     },
     "execution_count": 36,
     "metadata": {},
     "output_type": "execute_result"
    },
    {
     "ename": "",
     "evalue": "",
     "output_type": "error",
     "traceback": [
      "\u001b[1;31mThe Kernel crashed while executing code in the the current cell or a previous cell. Please review the code in the cell(s) to identify a possible cause of the failure. Click <a href='https://aka.ms/vscodeJupyterKernelCrash'>here</a> for more info. View Jupyter <a href='command:jupyter.viewOutput'>log</a> for further details."
     ]
    }
   ],
   "source": [
    "premise = 'a man sitting on a green bench.'\n",
    "hypothesis = 'a person on a park bench'\n",
    "\n",
    "predict_inference(premise, hypothesis, TEXT, LABEL, model, device)"
   ]
  }
 ],
 "metadata": {
  "kernelspec": {
   "display_name": "Python 3.10.6 64-bit",
   "language": "python",
   "name": "python3"
  },
  "language_info": {
   "codemirror_mode": {
    "name": "ipython",
    "version": 3
   },
   "file_extension": ".py",
   "mimetype": "text/x-python",
   "name": "python",
   "nbconvert_exporter": "python",
   "pygments_lexer": "ipython3",
   "version": "3.10.6 (main, Nov 14 2022, 16:10:14) [GCC 11.3.0]"
  },
  "vscode": {
   "interpreter": {
    "hash": "916dbcbb3f70747c44a77c7bcd40155683ae19c65e1c03b4aa3499c5328201f1"
   }
  }
 },
 "nbformat": 4,
 "nbformat_minor": 2
}
