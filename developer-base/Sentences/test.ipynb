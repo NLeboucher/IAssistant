{
 "cells": [
  {
   "cell_type": "code",
   "execution_count": 133,
   "metadata": {},
   "outputs": [],
   "source": [
    "import csv\n",
    "import pandas as pd\n",
    "#sentences is a list Player/Someone/Sun/Moon\n",
    "#a parameter is an availlable iterable in our application\n",
    "#mode = [] #iterable value/slider/bool/\n",
    "\n",
    "class Myparameter():\n",
    "    def __init__(self, param:str,mode:str,value:str,sentences=[]):\n",
    "        self.param=param\n",
    "        self.mode=mode\n",
    "        self.sentences=sentences\n",
    "        self.value=value\n",
    "    def __str__(self) -> str:\n",
    "        return(f\"{self.param}, {self.mode}, {self.value}, {' '.join(self.sentences)}\")\n",
    "\n",
    "parameters=[]\n",
    "def strToMyparameterlist (*args:list)->None:\n",
    "    parameters.append(wrapper(*args))\n",
    "\n",
    "def wrapper(*args:list)->list:\n",
    "    temp=[Myparameter(*i) for i in args ]\n",
    "    print(temp)\n",
    "    return temp\n",
    "def write(filename, separator='%'):\n",
    "    with open(filename, 'w', newline='') as csvfile:\n",
    "        writer = csv.writer(csvfile, delimiter=separator)\n",
    "        writer.writerow(['param', 'mode', 'value', 'sentences'])\n",
    "        for param in parameters:\n",
    "            for p in param:\n",
    "                writer.writerow([p.param, p.mode, p.value, separator.join(p.sentences)])"
   ]
  },
  {
   "cell_type": "code",
   "execution_count": 135,
   "metadata": {},
   "outputs": [
    {
     "name": "stdout",
     "output_type": "stream",
     "text": [
      "rain, bool, 0, Someone wants to remove the rain. An individual desires to eradicate the rain.\n"
     ]
    }
   ],
   "source": [
    "print(parameters[0][1])"
   ]
  },
  {
   "cell_type": "code",
   "execution_count": 134,
   "metadata": {},
   "outputs": [
    {
     "name": "stdout",
     "output_type": "stream",
     "text": [
      "[<__main__.Myparameter object at 0x7fd2927e1bd0>, <__main__.Myparameter object at 0x7fd2927e1e10>]\n"
     ]
    }
   ],
   "source": [
    "# strToMyparameterlist([\"sun\",\"bool\",'0',[\"Someone wants to remove the sun.\",\"An individual desires to eradicate the sun.\"]])\n",
    "# strToMyparameterlist([\"rain\",\"bool\",'0',[\"Someone wants to remove the rain.\",\"An individual desires to eradicate the rain.\"]])\n",
    "strToMyparameterlist([\"sun\",\"bool\",'0',[\"Someone wants to remove the sun.\",\"An individual desires to eradicate the sun.\"]],[\"rain\",\"bool\",'0',[\"Someone wants to remove the rain.\",\"An individual desires to eradicate the rain.\"]])"
   ]
  },
  {
   "cell_type": "code",
   "execution_count": 90,
   "metadata": {},
   "outputs": [
    {
     "name": "stdout",
     "output_type": "stream",
     "text": [
      "sun, bool, 0, Someone wants to remove the sun. An individual desires to eradicate the sun.\n"
     ]
    }
   ],
   "source": [
    "strToMyparameterlist([\"sun\",\"bool\",'0',[\"Someone wants to remove the sun.\",\"An individual desires to eradicate the sun.\"]])\n",
    "strToMyparameterlist([\"rain\",\"bool\",'0',[\"Someone wants to remove the rain.\",\"An individual desires to eradicate the rain.\"]])\n",
    "strToMyparameterlist([\"rain\",\"bool\",'0',[\"Someone wants to remove the rain.\",\"An individual desires to eradicate the rain.\"]])\n"
   ]
  },
  {
   "cell_type": "code",
   "execution_count": 136,
   "metadata": {},
   "outputs": [],
   "source": [
    "write(filename=\"mysentences.csv\")"
   ]
  },
  {
   "cell_type": "code",
   "execution_count": 6,
   "metadata": {},
   "outputs": [
    {
     "ename": "Error",
     "evalue": "It looks like you are using Playwright Sync API inside the asyncio loop.\nPlease use the Async API instead.",
     "output_type": "error",
     "traceback": [
      "\u001b[0;31m---------------------------------------------------------------------------\u001b[0m",
      "\u001b[0;31mError\u001b[0m                                     Traceback (most recent call last)",
      "Cell \u001b[0;32mIn[6], line 3\u001b[0m\n\u001b[1;32m      1\u001b[0m \u001b[39mfrom\u001b[39;00m \u001b[39mchatgpt_wrapper\u001b[39;00m \u001b[39mimport\u001b[39;00m ChatGPT\n\u001b[0;32m----> 3\u001b[0m bot \u001b[39m=\u001b[39m ChatGPT()\n\u001b[1;32m      4\u001b[0m response \u001b[39m=\u001b[39m bot\u001b[39m.\u001b[39mask(\u001b[39m\"\u001b[39m\u001b[39mHello, world!\u001b[39m\u001b[39m\"\u001b[39m)\n\u001b[1;32m      5\u001b[0m \u001b[39mprint\u001b[39m(response)  \u001b[39m# prints the response from chatGPT\u001b[39;00m\n",
      "File \u001b[0;32m~/.local/lib/python3.10/site-packages/chatgpt_wrapper/chatgpt.py:41\u001b[0m, in \u001b[0;36mChatGPT.__init__\u001b[0;34m(self, headless, browser, timeout)\u001b[0m\n\u001b[1;32m     40\u001b[0m \u001b[39mdef\u001b[39;00m \u001b[39m__init__\u001b[39m(\u001b[39mself\u001b[39m, headless: \u001b[39mbool\u001b[39m \u001b[39m=\u001b[39m \u001b[39mTrue\u001b[39;00m, browser\u001b[39m=\u001b[39m\u001b[39m\"\u001b[39m\u001b[39mfirefox\u001b[39m\u001b[39m\"\u001b[39m, timeout\u001b[39m=\u001b[39m\u001b[39m60\u001b[39m):\n\u001b[0;32m---> 41\u001b[0m     \u001b[39mself\u001b[39m\u001b[39m.\u001b[39mplay \u001b[39m=\u001b[39m sync_playwright()\u001b[39m.\u001b[39;49mstart()\n\u001b[1;32m     43\u001b[0m     \u001b[39mtry\u001b[39;00m:\n\u001b[1;32m     44\u001b[0m         playbrowser \u001b[39m=\u001b[39m \u001b[39mgetattr\u001b[39m(\u001b[39mself\u001b[39m\u001b[39m.\u001b[39mplay, browser)\n",
      "File \u001b[0;32m~/.local/lib/python3.10/site-packages/playwright/sync_api/_context_manager.py:95\u001b[0m, in \u001b[0;36mPlaywrightContextManager.start\u001b[0;34m(self)\u001b[0m\n\u001b[1;32m     94\u001b[0m \u001b[39mdef\u001b[39;00m \u001b[39mstart\u001b[39m(\u001b[39mself\u001b[39m) \u001b[39m-\u001b[39m\u001b[39m>\u001b[39m SyncPlaywright:\n\u001b[0;32m---> 95\u001b[0m     \u001b[39mreturn\u001b[39;00m \u001b[39mself\u001b[39;49m\u001b[39m.\u001b[39;49m\u001b[39m__enter__\u001b[39;49m()\n",
      "File \u001b[0;32m~/.local/lib/python3.10/site-packages/playwright/sync_api/_context_manager.py:44\u001b[0m, in \u001b[0;36mPlaywrightContextManager.__enter__\u001b[0;34m(self)\u001b[0m\n\u001b[1;32m     42\u001b[0m             \u001b[39mself\u001b[39m\u001b[39m.\u001b[39m_own_loop \u001b[39m=\u001b[39m \u001b[39mTrue\u001b[39;00m\n\u001b[1;32m     43\u001b[0m         \u001b[39mif\u001b[39;00m \u001b[39mself\u001b[39m\u001b[39m.\u001b[39m_loop\u001b[39m.\u001b[39mis_running():\n\u001b[0;32m---> 44\u001b[0m             \u001b[39mraise\u001b[39;00m Error(\n\u001b[1;32m     45\u001b[0m \u001b[39m                \u001b[39m\u001b[39m\"\"\"It looks like you are using Playwright Sync API inside the asyncio loop.\u001b[39;00m\n\u001b[1;32m     46\u001b[0m \u001b[39mPlease use the Async API instead.\"\"\"\u001b[39;00m\n\u001b[1;32m     47\u001b[0m             )\n\u001b[1;32m     49\u001b[0m         \u001b[39m# In Python 3.7, asyncio.Process.wait() hangs because it does not use ThreadedChildWatcher\u001b[39;00m\n\u001b[1;32m     50\u001b[0m         \u001b[39m# which is used in Python 3.8+. This is unix specific and also takes care about\u001b[39;00m\n\u001b[1;32m     51\u001b[0m         \u001b[39m# cleaning up zombie processes. See https://bugs.python.org/issue35621\u001b[39;00m\n\u001b[1;32m     52\u001b[0m         \u001b[39mif\u001b[39;00m (\n\u001b[1;32m     53\u001b[0m             sys\u001b[39m.\u001b[39mversion_info[\u001b[39m0\u001b[39m] \u001b[39m==\u001b[39m \u001b[39m3\u001b[39m\n\u001b[1;32m     54\u001b[0m             \u001b[39mand\u001b[39;00m sys\u001b[39m.\u001b[39mversion_info[\u001b[39m1\u001b[39m] \u001b[39m==\u001b[39m \u001b[39m7\u001b[39m\n\u001b[1;32m     55\u001b[0m             \u001b[39mand\u001b[39;00m sys\u001b[39m.\u001b[39mplatform \u001b[39m!=\u001b[39m \u001b[39m\"\u001b[39m\u001b[39mwin32\u001b[39m\u001b[39m\"\u001b[39m\n\u001b[1;32m     56\u001b[0m             \u001b[39mand\u001b[39;00m \u001b[39misinstance\u001b[39m(asyncio\u001b[39m.\u001b[39mget_child_watcher(), asyncio\u001b[39m.\u001b[39mSafeChildWatcher)\n\u001b[1;32m     57\u001b[0m         ):\n",
      "\u001b[0;31mError\u001b[0m: It looks like you are using Playwright Sync API inside the asyncio loop.\nPlease use the Async API instead."
     ]
    }
   ],
   "source": [
    "from chatgpt_wrapper import ChatGPT\n",
    "\n",
    "bot = ChatGPT()\n",
    "response = bot.ask(\"Hello, world!\")\n",
    "print(response)  # prints the response from chatGPT"
   ]
  },
  {
   "cell_type": "code",
   "execution_count": null,
   "metadata": {},
   "outputs": [],
   "source": [
    "\"An individual desires to eliminate the sun.\", \"One longs to abolish the sun.\", \"A person seeks to erase the sun.\", \"A being wants to erase the sun.\", \"An entity wants to delete the sun.\", \"Someone yearns to delete the sun.\", \"Someone aspires to extinguish the sun.\", \"A soul wants to wipe out the sun.\", \"An individual wants to get rid of the sun.\", \"Someone wants to obliterate the sun.\"\n",
    "\n",
    "\"An individual desires to eliminate the rain\", \"One longs to abolish the rain\", \"A person seeks to erase the rain\", \"A being wants to erase the rain\", \"An entity wants to delete the rain\", \"Someone yearns to delete the rain\", \"Someone aspires to extinguish the rain\", \"A soul wants to wipe out the rain\", \"An individual wants to get rid of the rain\", \"Someone wants to obliterate the rain\"\n",
    "\n",
    "\"An individual desires to eliminate the snow\", \"One longs to abolish the snow\", \"A person seeks to erase the snow\", \"A being wants to erase the snow\", \"An entity wants to delete the snow\", \"Someone yearns to delete the snow\", \"Someone aspires to extinguish the snow\", \"A soul wants to wipe out the snow\", \"An individual wants to get rid of the snow\", \"Someone wants to obliterate the snow\"\n",
    "\n"
   ]
  },
  {
   "attachments": {},
   "cell_type": "markdown",
   "metadata": {},
   "source": [
    "can you write 10 sentences synonym to: \"Someone wants to remove the sun.\" seperated by commas on one line."
   ]
  },
  {
   "attachments": {},
   "cell_type": "markdown",
   "metadata": {},
   "source": [
    "An individual desires to eliminate the sun, one longs to abolish the sun, a person seeks to erase the sun, a being wants to erase the sun, an entity wants to delete the sun, someone yearns to delete the sun, someone aspires to extinguish the sun, a soul wants to wipe out the sun, an individual wants to get rid of the sun, someone wants to obliterate the sun."
   ]
  },
  {
   "attachments": {},
   "cell_type": "markdown",
   "metadata": {},
   "source": [
    "can you write 10 sentences synonym to: \"Someone wants to remove the sun.\" seperated by commas on one line witch each encircled by \"\"."
   ]
  }
 ],
 "metadata": {
  "kernelspec": {
   "display_name": "Python 3",
   "language": "python",
   "name": "python3"
  },
  "language_info": {
   "codemirror_mode": {
    "name": "ipython",
    "version": 3
   },
   "file_extension": ".py",
   "mimetype": "text/x-python",
   "name": "python",
   "nbconvert_exporter": "python",
   "pygments_lexer": "ipython3",
   "version": "3.10.6"
  },
  "orig_nbformat": 4,
  "vscode": {
   "interpreter": {
    "hash": "916dbcbb3f70747c44a77c7bcd40155683ae19c65e1c03b4aa3499c5328201f1"
   }
  }
 },
 "nbformat": 4,
 "nbformat_minor": 2
}
