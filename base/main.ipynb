{
 "cells": [
  {
   "cell_type": "code",
   "execution_count": 2,
   "metadata": {},
   "outputs": [],
   "source": [
    "from nltk.corpus import wordnet as wn\n",
    "import torch\n",
    "import torchvision\n",
    "import os\n",
    "import pandas as pd\n",
    "from torchvision.datasets import MNIST\n",
    "from torchvision.transforms import ToTensor\n",
    "from torch.nn import Sequential, Flatten, Linear, ReLU, CrossEntropyLoss\n",
    "from torch.utils.data import DataLoader\n",
    "from torch.optim import AdamW"
   ]
  },
  {
   "cell_type": "code",
   "execution_count": 50,
   "metadata": {},
   "outputs": [
    {
     "name": "stdout",
     "output_type": "stream",
     "text": [
      "<torch.utils.data.dataloader.DataLoader object at 0x7f92889a7640>\n"
     ]
    }
   ],
   "source": [
    "# class MyDataset():\n",
    " \n",
    "#   def __init__(self,file_name):\n",
    "#     price_df=pd.read_csv(file_name)\n",
    " \n",
    "#     x=price_df.iloc[:,0:20000].values\n",
    "#     y=price_df.iloc[:,20000].values\n",
    " \n",
    "#     self.x_train=torch.tensor(x,dtype=torch.float32)\n",
    "#     self.y_train=torch.tensor(y,dtype=torch.float32)\n",
    " \n",
    "#   def __len__(self):\n",
    "#     return len(self.y_train)\n",
    "   \n",
    "#   def __getitem__(self,idx):\n",
    "#     return self.x_train[idx],self.y_train[idx]\n",
    "# myDs=MyDataset(\"/home/nicolas/Documents/IAssistant/data/Bitext_Sample_Customer_Service_Training_Dataset/Training/Bitext_Sample_Customer_Service_Training_Dataset.csv\")\n",
    "myDs=pd.read_csv(\"/home/nicolas/Documents/IAssistant/data/Bitext_Sample_Customer_Service_Training_Dataset/Training/Bitext_Sample_Customer_Service_Training_Dataset.csv\")\n",
    "train_loader=DataLoader(myDs,batch_size=1000,shuffle=False)\n",
    "print(train_loader)\n",
    "\n"
   ]
  },
  {
   "cell_type": "code",
   "execution_count": 47,
   "metadata": {},
   "outputs": [
    {
     "name": "stdout",
     "output_type": "stream",
     "text": [
      "     flags                                          utterance category  \\\n",
      "0       BM            I have problems with canceling an order    ORDER   \n",
      "1      BIM  how can I find information about canceling ord...    ORDER   \n",
      "2        B          I need help with canceling the last order    ORDER   \n",
      "3      BIP  could you help me cancelling the last order I ...    ORDER   \n",
      "4        B            problem with cancelling an order I made    ORDER   \n",
      "...    ...                                                ...      ...   \n",
      "8170    BM  I need help to check if there is any updates o...   REFUND   \n",
      "8171    BK                                      refund status   REFUND   \n",
      "8172    BI          how can I check the status of the refund?   REFUND   \n",
      "8173     B  help checking if there is anything wrong with ...   REFUND   \n",
      "8174    BI                         anything new on my refund?   REFUND   \n",
      "\n",
      "            intent  \n",
      "0     cancel_order  \n",
      "1     cancel_order  \n",
      "2     cancel_order  \n",
      "3     cancel_order  \n",
      "4     cancel_order  \n",
      "...            ...  \n",
      "8170  track_refund  \n",
      "8171  track_refund  \n",
      "8172  track_refund  \n",
      "8173  track_refund  \n",
      "8174  track_refund  \n",
      "\n",
      "[8175 rows x 4 columns]\n"
     ]
    }
   ],
   "source": [
    "print(myDs)"
   ]
  },
  {
   "cell_type": "code",
   "execution_count": null,
   "metadata": {},
   "outputs": [],
   "source": [
    "train = MNIST(root = \"\", download = True,train = True, transform = ToTensor() )\n",
    "\n",
    "test = MNIST(root = \"\", download = True,train = False, transform = ToTensor() )\n",
    "\n",
    "loader_train = DataLoader(train, batch_size = 64)\n",
    "loader_test = DataLoader(test, batch_size = 64)\n",
    "model = Sequential(\n",
    "    Flatten(),\n",
    "    Linear(28*28, 512), ReLU(),\n",
    "    Linear(512,512), ReLU(),\n",
    "    Linear(512, 10)\n",
    ").cuda()\n",
    "criterion = CrossEntropyLoss().cuda()\n",
    "optim = AdamW(model.parameters(), lr = 1e-3)\n",
    "\n",
    "def step(model, loader, criterion, optim, train):\n",
    "  model.train() if train else model.eval()\n",
    "  total_loss, total_acc = 0.0,0.0\n",
    "\n",
    "  for X, y in loader:\n",
    "    X,y = X.cuda(), y.cuda()\n",
    "    logits = model(X)\n",
    "    loss = criterion(logits, y)\n",
    "    acc = (logits.argmax(1)==y).sum().item()\n",
    "\n",
    "    if train:\n",
    "      optim.zero_grad()\n",
    "      loss.backward()\n",
    "      optim.step()\n",
    "\n",
    "    total_loss+=loss/len(loader)\n",
    "    total_acc+=acc/len(loader.dataset)\n",
    "  print(f\"loss = {total_loss:.2e}, acc = {total_acc * 100:.2f}\")\n",
    "for _ in range(2):\n",
    "  print(\"train\")\n",
    "  step(model, loader_train, criterion, optim, True)\n",
    "  print(\"test\")\n",
    "  step(model, loader_test, criterion, optim, False)"
   ]
  },
  {
   "cell_type": "code",
   "execution_count": null,
   "metadata": {},
   "outputs": [],
   "source": [
    "import os\n",
    "import pandas as pd\n",
    "from torchvision.io import read_image\n",
    "\n",
    "class CustomImageDataset(Dataset):\n",
    "    def __init__(self, annotations_file, img_dir, transform=None, target_transform=None):\n",
    "        self.img_labels = pd.read_csv(annotations_file)\n",
    "        self.img_dir = img_dir\n",
    "        self.transform = transform\n",
    "        self.target_transform = target_transform\n",
    "\n",
    "    def __len__(self):\n",
    "        return len(self.img_labels)\n",
    "\n",
    "    def __getitem__(self, idx):\n",
    "        img_path = os.path.join(self.img_dir, self.img_labels.iloc[idx, 0])\n",
    "        image = read_image(img_path)\n",
    "        label = self.img_labels.iloc[idx, 1]\n",
    "        if self.transform:\n",
    "            image = self.transform(image)\n",
    "        if self.target_transform:\n",
    "            label = self.target_transform(label)\n",
    "        return image, label\n",
    "\n",
    "    def __init__(self, annotations_file, img_dir, transform=None, target_transform=None):\n",
    "        self.img_labels = pd.read_csv(annotations_file)\n",
    "        self.img_dir = img_dir\n",
    "        self.transform = transform\n",
    "        self.target_transform = target_transform"
   ]
  },
  {
   "cell_type": "code",
   "execution_count": 3,
   "metadata": {},
   "outputs": [
    {
     "name": "stdout",
     "output_type": "stream",
     "text": [
      "0.9090909090909091\n"
     ]
    }
   ],
   "source": []
  },
  {
   "cell_type": "code",
   "execution_count": 23,
   "metadata": {},
   "outputs": [
    {
     "name": "stdout",
     "output_type": "stream",
     "text": [
      "[Synset('run.v.01'), Synset('scat.v.01'), Synset('run.v.03'), Synset('operate.v.01'), Synset('run.v.05'), Synset('run.v.06'), Synset('function.v.01'), Synset('range.v.01'), Synset('campaign.v.01'), Synset('play.v.18'), Synset('run.v.11'), Synset('tend.v.01'), Synset('run.v.13'), Synset('run.v.14'), Synset('run.v.15'), Synset('run.v.16'), Synset('prevail.v.03'), Synset('run.v.18'), Synset('run.v.19'), Synset('carry.v.15'), Synset('run.v.21'), Synset('guide.v.05'), Synset('run.v.23'), Synset('run.v.24'), Synset('run.v.25'), Synset('run.v.26'), Synset('run.v.27'), Synset('run.v.28'), Synset('run.v.29'), Synset('run.v.30'), Synset('run.v.31'), Synset('run.v.32'), Synset('run.v.33'), Synset('run.v.34'), Synset('ply.v.03'), Synset('hunt.v.01'), Synset('race.v.02'), Synset('move.v.13'), Synset('melt.v.01'), Synset('ladder.v.01'), Synset('run.v.41')]\n"
     ]
    }
   ],
   "source": [
    "a=wn.synsets('run',pos=wn.VERB)\n",
    "print(a)"
   ]
  },
  {
   "cell_type": "code",
   "execution_count": 27,
   "metadata": {},
   "outputs": [
    {
     "name": "stdout",
     "output_type": "stream",
     "text": [
      "tensor([[0.1655, 0.8620, 0.4251],\n",
      "        [0.8142, 0.4394, 0.6856],\n",
      "        [0.5321, 0.0474, 0.7360],\n",
      "        [0.9222, 0.5748, 0.5924],\n",
      "        [0.8571, 0.7252, 0.9425]])\n"
     ]
    },
    {
     "data": {
      "text/plain": [
       "True"
      ]
     },
     "execution_count": 27,
     "metadata": {},
     "output_type": "execute_result"
    }
   ],
   "source": [
    "\n",
    "x = torch.rand(5, 3)\n",
    "print(x)\n",
    "torch.cuda.is_available()\n"
   ]
  }
 ],
 "metadata": {
  "kernelspec": {
   "display_name": "Python 3.10.6 64-bit",
   "language": "python",
   "name": "python3"
  },
  "language_info": {
   "codemirror_mode": {
    "name": "ipython",
    "version": 3
   },
   "file_extension": ".py",
   "mimetype": "text/x-python",
   "name": "python",
   "nbconvert_exporter": "python",
   "pygments_lexer": "ipython3",
   "version": "3.10.6 (main, Nov 14 2022, 16:10:14) [GCC 11.3.0]"
  },
  "orig_nbformat": 4,
  "vscode": {
   "interpreter": {
    "hash": "916dbcbb3f70747c44a77c7bcd40155683ae19c65e1c03b4aa3499c5328201f1"
   }
  }
 },
 "nbformat": 4,
 "nbformat_minor": 2
}
