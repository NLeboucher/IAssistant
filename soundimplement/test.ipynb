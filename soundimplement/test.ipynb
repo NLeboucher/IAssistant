{
 "cells": [
  {
   "cell_type": "code",
   "execution_count": 2,
   "metadata": {},
   "outputs": [
    {
     "name": "stderr",
     "output_type": "stream",
     "text": [
      "2023-01-15 00:41:13.014503: I tensorflow/core/platform/cpu_feature_guard.cc:193] This TensorFlow binary is optimized with oneAPI Deep Neural Network Library (oneDNN) to use the following CPU instructions in performance-critical operations:  AVX2 FMA\n",
      "To enable them in other operations, rebuild TensorFlow with the appropriate compiler flags.\n",
      "2023-01-15 00:41:13.476713: W tensorflow/compiler/xla/stream_executor/platform/default/dso_loader.cc:64] Could not load dynamic library 'libcudart.so.11.0'; dlerror: libcudart.so.11.0: cannot open shared object file: No such file or directory\n",
      "2023-01-15 00:41:13.476736: I tensorflow/compiler/xla/stream_executor/cuda/cudart_stub.cc:29] Ignore above cudart dlerror if you do not have a GPU set up on your machine.\n",
      "2023-01-15 00:41:14.590437: W tensorflow/compiler/xla/stream_executor/platform/default/dso_loader.cc:64] Could not load dynamic library 'libnvinfer.so.7'; dlerror: libnvinfer.so.7: cannot open shared object file: No such file or directory\n",
      "2023-01-15 00:41:14.590521: W tensorflow/compiler/xla/stream_executor/platform/default/dso_loader.cc:64] Could not load dynamic library 'libnvinfer_plugin.so.7'; dlerror: libnvinfer_plugin.so.7: cannot open shared object file: No such file or directory\n",
      "2023-01-15 00:41:14.590532: W tensorflow/compiler/tf2tensorrt/utils/py_utils.cc:38] TF-TRT Warning: Cannot dlopen some TensorRT libraries. If you would like to use Nvidia GPU with TensorRT, please make sure the missing libraries mentioned above are installed properly.\n"
     ]
    }
   ],
   "source": [
    "from transformers import AutoTokenizer\n",
    "from transformers.models.mpnet.modeling_mpnet import MPNetForSequenceClassification\n",
    "from transformers import AutoModel , AutoConfig, AutoTokenizer\n",
    "import torch\n",
    "import huggingface_hub\n",
    "import time\n"
   ]
  },
  {
   "cell_type": "code",
   "execution_count": 5,
   "metadata": {},
   "outputs": [
    {
     "name": "stdout",
     "output_type": "stream",
     "text": [
      "[[0.0011279638856649399, 0.0007713533123023808, 0.9981006979942322]]\n"
     ]
    }
   ],
   "source": [
    "class MyModel(torch.nn.Module):\n",
    "    def __init__(self, NUM_CLASSES,path:str):\n",
    "        super().__init__()\n",
    "        self.path=path\n",
    "        self.config= AutoConfig.from_pretrained(f\"{self.path}mpnet-base-snli-mnli/\", num_labels=3)\n",
    "        self.base_model = MPNetForSequenceClassification.from_pretrained(f\"{self.path}mpnet-base-snli-mnli/\", num_labels=3)\n",
    "        self.lin_layer = torch.nn.Linear(self.config.hidden_size, NUM_CLASSES)\n",
    "        self.tokenizer = AutoTokenizer.from_pretrained(f\"{self.path}mpnet-base-snli-mnli/\",)\n",
    "    def out(self,prem:str,hyp:str):\n",
    "        input_pairs = [(prem, hyp)]\n",
    "        inputs = self.tokenizer([\"</s></s>\".join(input_pair) for input_pair in input_pairs], return_tensors=\"pt\",padding='max_length')\n",
    "        logits = self.base_model(**inputs).logits\n",
    "        probs =  torch.softmax(logits, dim=1).tolist()\n",
    "        return probs\n",
    "\n",
    "mod = MyModel(3,\"../base/\")\n",
    "print(mod.out(hyp=\"I am a cat\",prem=\"I am a dog\"))"
   ]
  }
 ],
 "metadata": {
  "kernelspec": {
   "display_name": "Python 3",
   "language": "python",
   "name": "python3"
  },
  "language_info": {
   "codemirror_mode": {
    "name": "ipython",
    "version": 3
   },
   "file_extension": ".py",
   "mimetype": "text/x-python",
   "name": "python",
   "nbconvert_exporter": "python",
   "pygments_lexer": "ipython3",
   "version": "3.10.6"
  },
  "orig_nbformat": 4,
  "vscode": {
   "interpreter": {
    "hash": "916dbcbb3f70747c44a77c7bcd40155683ae19c65e1c03b4aa3499c5328201f1"
   }
  }
 },
 "nbformat": 4,
 "nbformat_minor": 2
}
